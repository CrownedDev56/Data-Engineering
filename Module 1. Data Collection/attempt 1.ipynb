{
 "cells": [
  {
   "cell_type": "code",
   "execution_count": 28,
   "id": "02330808",
   "metadata": {
    "ExecuteTime": {
     "end_time": "2021-08-16T20:43:51.410535Z",
     "start_time": "2021-08-16T20:43:51.406889Z"
    }
   },
   "outputs": [],
   "source": [
    "from selenium import webdriver\n",
    "from time import sleep\n"
   ]
  },
  {
   "cell_type": "code",
   "execution_count": 29,
   "id": "1a254e9d",
   "metadata": {
    "ExecuteTime": {
     "end_time": "2021-08-16T20:43:59.224926Z",
     "start_time": "2021-08-16T20:43:52.110035Z"
    }
   },
   "outputs": [
    {
     "data": {
      "text/plain": [
       "<selenium.webdriver.chrome.webdriver.WebDriver (session=\"71230fed45f8e5ea36bea7654e2af6b0\")>"
      ]
     },
     "execution_count": 29,
     "metadata": {},
     "output_type": "execute_result"
    }
   ],
   "source": [
    "def load_and_accept_cookies():\n",
    "        \n",
    "    driver = webdriver.Chrome('chromedriver')\n",
    "    URL = \"https://www.zoopla.co.uk/new-homes/property/london/?q=London&results_sort=newest_listings&search_source=new-homes&page_size=25&pn=1&view_type=list\"\n",
    "    driver.get(URL)\n",
    "    accept_cookies = driver.find_elements_by_xpath('//button[@data-responsibility=\"acceptAll\"]')\n",
    "    for button in accept_cookies:\n",
    "        if button.text == \"Accept all cookies\":\n",
    "            relevant_button = button\n",
    "\n",
    "    relevant_button.click()\n",
    "    return driver\n",
    "load_and_accept_cookies()"
   ]
  },
  {
   "cell_type": "code",
   "execution_count": 31,
   "id": "1a7bf040",
   "metadata": {
    "ExecuteTime": {
     "end_time": "2021-08-16T21:54:04.844928Z",
     "start_time": "2021-08-16T21:54:00.139245Z"
    }
   },
   "outputs": [
    {
     "ename": "IndexError",
     "evalue": "list index out of range",
     "output_type": "error",
     "traceback": [
      "\u001b[0;31m---------------------------------------------------------------------------\u001b[0m",
      "\u001b[0;31mIndexError\u001b[0m                                Traceback (most recent call last)",
      "\u001b[0;32m/tmp/ipykernel_38560/1837089272.py\u001b[0m in \u001b[0;36m<module>\u001b[0;34m\u001b[0m\n\u001b[1;32m     48\u001b[0m     \u001b[0;32mreturn\u001b[0m \u001b[0mdata\u001b[0m\u001b[0;34m\u001b[0m\u001b[0;34m\u001b[0m\u001b[0m\n\u001b[1;32m     49\u001b[0m \u001b[0;34m\u001b[0m\u001b[0m\n\u001b[0;32m---> 50\u001b[0;31m \u001b[0mproperties\u001b[0m \u001b[0;34m=\u001b[0m \u001b[0mget_properties\u001b[0m\u001b[0;34m(\u001b[0m\u001b[0;34m)\u001b[0m\u001b[0;34m\u001b[0m\u001b[0;34m\u001b[0m\u001b[0m\n\u001b[0m",
      "\u001b[0;32m/tmp/ipykernel_38560/1837089272.py\u001b[0m in \u001b[0;36mget_properties\u001b[0;34m(num_to_get)\u001b[0m\n\u001b[1;32m      6\u001b[0m     \u001b[0mPROPERTY_BASE\u001b[0m \u001b[0;34m=\u001b[0m \u001b[0;34m\"//ul[@class='listing-results clearfix js-gtm-list']/li\"\u001b[0m\u001b[0;34m\u001b[0m\u001b[0;34m\u001b[0m\u001b[0m\n\u001b[1;32m      7\u001b[0m     \u001b[0;32mfor\u001b[0m \u001b[0mi\u001b[0m \u001b[0;32min\u001b[0m \u001b[0mrange\u001b[0m\u001b[0;34m(\u001b[0m\u001b[0mnum_to_get\u001b[0m\u001b[0;34m)\u001b[0m\u001b[0;34m:\u001b[0m\u001b[0;34m\u001b[0m\u001b[0;34m\u001b[0m\u001b[0m\n\u001b[0;32m----> 8\u001b[0;31m         \u001b[0mhouse_page\u001b[0m \u001b[0;34m=\u001b[0m \u001b[0mdriver\u001b[0m\u001b[0;34m.\u001b[0m\u001b[0mfind_elements_by_xpath\u001b[0m\u001b[0;34m(\u001b[0m\u001b[0;34m\"{}//a[@class='photo-hover']\"\u001b[0m\u001b[0;34m.\u001b[0m\u001b[0mformat\u001b[0m\u001b[0;34m(\u001b[0m\u001b[0mPROPERTY_BASE\u001b[0m\u001b[0;34m)\u001b[0m\u001b[0;34m)\u001b[0m\u001b[0;34m[\u001b[0m\u001b[0mi\u001b[0m\u001b[0;34m]\u001b[0m\u001b[0;34m.\u001b[0m\u001b[0mclick\u001b[0m\u001b[0;34m(\u001b[0m\u001b[0;34m)\u001b[0m\u001b[0;34m\u001b[0m\u001b[0;34m\u001b[0m\u001b[0m\n\u001b[0m\u001b[1;32m      9\u001b[0m \u001b[0;34m\u001b[0m\u001b[0m\n\u001b[1;32m     10\u001b[0m \u001b[0;34m\u001b[0m\u001b[0m\n",
      "\u001b[0;31mIndexError\u001b[0m: list index out of range"
     ]
    }
   ],
   "source": [
    "def get_properties(num_to_get=2):\n",
    "\n",
    "    driver = load_and_accept_cookies()\n",
    "    \n",
    "    data = {\"sale_price\": [], \"num_bedrooms\": [], \"sqft\": [], \"description\": [], \"address\": []}\n",
    "    PROPERTY_BASE = \"//ul[@class='listing-results clearfix js-gtm-list']/li\"\n",
    "    for i in range(num_to_get):\n",
    "        house_page = driver.find_elements_by_xpath(\"{}//a[@class='photo-hover']\".format(PROPERTY_BASE))[i].click()\n",
    "        \n",
    "        \n",
    "        sleep(3)\n",
    "\n",
    "        ## Find the price and append it to the dictionary\n",
    "        price_elem = driver.find_elements_by_xpath(\"/html/body/div[2]/div[5]/div[2]/main/div[2]/div[1]/a[1]/div/div[2]/div[1]/p[1]\".format(PROPERTY_BASE))[i]\n",
    "       \n",
    "        \n",
    "        data[\"sale_price\"].append(price_elem.text)\n",
    "\n",
    "        ## Find a link to click on\n",
    "        \n",
    "        sleep(3)\n",
    "        \n",
    "        ## Find the number of bedrooms and append it to the dictionary\n",
    "        ## HINT: https://lmgtfy.com/?q=xpath+svg+tag\n",
    "        ## HINT: https://stackoverflow.com/questions/11657223/xpath-get-following-sibling\n",
    "        bedrooms_elem = driver.find_element_by_xpath(\"//*[name()='svg' and @class='ui-icon icon-bed']/following-sibling::span\")\n",
    "        num_beds = bedrooms_elem.text[:-9] # \" bedrooms\" is 9 chars\n",
    "        data[\"num_bedrooms\"].append(num_beds)\n",
    "\n",
    "        try:\n",
    "            ## Find the number of square footage and append it to the dictionary\n",
    "            sqft_elem = driver.find_element_by_xpath(\"//*[name()='svg' and @class='ui-icon icon-area']/following-sibling::span\")\n",
    "            data[\"sqft\"].append(sqft_elem.text)\n",
    "        except:\n",
    "            data[\"sqft\"].append(\"None\")\n",
    "\n",
    "\n",
    "        ## Find the description and append it to the dictionary\n",
    "        description_elem = driver.find_element_by_xpath(\"//div[@class='dp-description__text']\")\n",
    "        data[\"description\"].append(description_elem.text)\n",
    "\n",
    "        ## Find the address\n",
    "        address_elem = driver.find_element_by_xpath(\"//h2[@class='ui-property-summary__address']\")\n",
    "        data[\"address\"].append(address_elem.text)\n",
    "\n",
    "        driver.execute_script(\"window.history.go(-1)\")\n",
    "\n",
    "    return data\n",
    "\n",
    "properties = get_properties()"
   ]
  },
  {
   "cell_type": "code",
   "execution_count": null,
   "id": "48fbd169",
   "metadata": {},
   "outputs": [],
   "source": []
  }
 ],
 "metadata": {
  "kernelspec": {
   "display_name": "Python [conda env:aicore] *",
   "language": "python",
   "name": "conda-env-aicore-py"
  },
  "language_info": {
   "codemirror_mode": {
    "name": "ipython",
    "version": 3
   },
   "file_extension": ".py",
   "mimetype": "text/x-python",
   "name": "python",
   "nbconvert_exporter": "python",
   "pygments_lexer": "ipython3",
   "version": "3.9.6"
  }
 },
 "nbformat": 4,
 "nbformat_minor": 5
}
