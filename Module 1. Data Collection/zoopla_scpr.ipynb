{
 "cells": [
  {
   "cell_type": "code",
   "execution_count": null,
   "id": "611e850e",
   "metadata": {
    "ExecuteTime": {
     "start_time": "2021-08-17T13:18:28.821Z"
    }
   },
   "outputs": [
    {
     "name": "stdout",
     "output_type": "stream",
     "text": [
      "<selenium.webdriver.remote.webelement.WebElement (session=\"57db7db59026835c536a2d7ad8f4b337\", element=\"cb4ccc1a-1f63-40fd-844c-266cc7e035a3\")>\n",
      "25\n",
      "0\n"
     ]
    }
   ],
   "source": [
    "from selenium import webdriver\n",
    "from time import sleep\n",
    "driver = webdriver.Chrome()\n",
    "URL = \"https://www.zoopla.co.uk/new-homes/property/london/?q=London&results_sort=newest_listings&search_source=new-homes&page_size=25&pn=1&view_type=list\"\n",
    "driver.get(URL)\n",
    "accept_cookies = driver.find_elements_by_xpath('//button[@data-responsibility=\"acceptAll\"]')\n",
    "for button in accept_cookies:\n",
    "    if button.text == \"Accept all cookies\":\n",
    "        relevant_button = button\n",
    "relevant_button.click()\n",
    "#\n",
    "prop_container = driver.find_element_by_xpath('/html/body/div[2]/div[5]/div[2]/main/div[2]/div[2]')\n",
    "print(prop_container)\n",
    "properties = prop_container.find_elements_by_xpath('./div')\n",
    "# value of all listing divs found in prop_container\n",
    "num_props = len(properties)\n",
    "print(num_props)\n",
    "data = {\"sale_price\": [], \"num_bedrooms\": [], \"sqft\": [], \"description\": [], \"address\": []}\n",
    "for i in range(num_props):\n",
    "    print(i)\n",
    "    prop_container = driver.find_element_by_xpath('/html/body/div[2]/div[5]/div[2]/main/div[2]/div[2]')\n",
    "    house = prop_container.find_elements_by_xpath('./div')[i]\n",
    "    house.click()\n",
    "    sleep(5)\n",
    "    price_elem = driver.find_elements_by_xpath(\"/html/body/div[2]/main/div[1]/div[1]/section[1]/div[1]/div[2]/span\".format(prop_container))[i]\n",
    "    data[\"sale_price\"].append(price_elem.text)\n",
    "    print(data)\n",
    "    driver.back()\n",
    "    sleep(1)"
   ]
  },
  {
   "cell_type": "code",
   "execution_count": null,
   "id": "047f14bb",
   "metadata": {},
   "outputs": [],
   "source": []
  },
  {
   "cell_type": "code",
   "execution_count": null,
   "id": "cc0aa83f",
   "metadata": {},
   "outputs": [],
   "source": []
  }
 ],
 "metadata": {
  "kernelspec": {
   "display_name": "Python [conda env:aicore] *",
   "language": "python",
   "name": "conda-env-aicore-py"
  },
  "language_info": {
   "codemirror_mode": {
    "name": "ipython",
    "version": 3
   },
   "file_extension": ".py",
   "mimetype": "text/x-python",
   "name": "python",
   "nbconvert_exporter": "python",
   "pygments_lexer": "ipython3",
   "version": "3.9.6"
  }
 },
 "nbformat": 4,
 "nbformat_minor": 5
}
