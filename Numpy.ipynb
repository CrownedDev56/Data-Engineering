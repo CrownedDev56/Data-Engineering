{
 "cells": [
  {
   "cell_type": "markdown",
   "id": "967dab18",
   "metadata": {},
   "source": [
    "# Numpy\n",
    "\n",
    "> __Numpy is a scientific standard for handling multidimensional data in Python__\n",
    "\n",
    "__This is one of the most if not the most important library for Python__, because:\n",
    "- It is a core of many scientific stacks:\n",
    "    - Underlying library for __Pandas__ (we will learn about it later)\n",
    "    - API parity (or similarity) with __PyTorch__ or __Tensorflow__\n",
    "    - Many third party libraries implement ideas we will see here\n",
    "    \n",
    "It's popularity could be attributed to a few key traits:\n",
    "- __ease of use__\n",
    "- __efficiency__ due to C implementation (Python acts as a front-end)\n",
    "- intuitive syntax\n",
    "- \"just works\" as you'd expect (and would like it to)\n",
    "\n",
    "## Installation\n",
    "\n",
    "We can install numpy really easily via `pip` or `conda` (available in the main `conda` channel) via:\n",
    "\n",
    "```bash\n",
    "pip install numpy\n",
    "```\n",
    "\n",
    "```\n",
    "conda install numpy\n",
    "```"
   ]
  },
  {
   "cell_type": "code",
   "execution_count": 2,
   "id": "ba52a57f",
   "metadata": {},
   "outputs": [
    {
     "name": "stdout",
     "output_type": "stream",
     "text": [
      "Collecting numpy\n",
      "  Downloading numpy-1.21.1-cp39-cp39-manylinux_2_12_x86_64.manylinux2010_x86_64.whl (15.8 MB)\n",
      "\u001b[K     |████████████████████████████████| 15.8 MB 5.7 MB/s eta 0:00:01\n",
      "\u001b[?25hInstalling collected packages: numpy\n",
      "\u001b[31mERROR: pip's dependency resolver does not currently take into account all the packages that are installed. This behaviour is the source of the following dependency conflicts.\n",
      "torchvision 0.9.0 requires pillow>=4.1.1, which is not installed.\n",
      "torchvision 0.9.0 requires torch==1.8.0, which is not installed.\n",
      "tensorboard 2.4.1 requires google-auth<2,>=1.6.3, which is not installed.\n",
      "tensorboard 2.4.1 requires protobuf>=3.6.0, which is not installed.\n",
      "tensorboard 2.4.1 requires requests<3,>=2.21.0, which is not installed.\n",
      "tensorboard 2.4.1 requires werkzeug>=0.11.15, which is not installed.\n",
      "pytorch-lightning 1.3.0.dev0 requires future>=0.17.1, which is not installed.\n",
      "pytorch-lightning 1.3.0.dev0 requires PyYAML!=5.4.*,>=5.1, which is not installed.\n",
      "pytorch-lightning 1.3.0.dev0 requires torch>=1.4, which is not installed.\n",
      "pytorch-lightning 1.3.0.dev0 requires tqdm>=4.41.0, which is not installed.\n",
      "pytorch-lightning-bolts 0.3.0 requires torch>=1.6, which is not installed.\u001b[0m\n",
      "Successfully installed numpy-1.21.1\n"
     ]
    }
   ],
   "source": [
    "!pip install numpy"
   ]
  },
  {
   "cell_type": "markdown",
   "id": "35562d6e",
   "metadata": {},
   "source": [
    "# np.ndarray\n",
    "\n",
    "> __`np.ndarray` is highly-efficient data abstraction written in C with Python's bindings for easier usage__\n",
    "\n",
    "Important traits about `np.ndarray`:\n",
    "- __Can have arbitrary number of dimensions__\n",
    "- __Single `dtype`__ (type of data), usually numeric, for example:\n",
    "    - `float32` (a.k.a. `float`)\n",
    "    - `float64` (a.k.a. `double`); __default__\n",
    "    - `int32` (a.k.a. `int`)\n",
    "- __Has to be \"rectangle-like\"__:\n",
    "    - We cannot have `3` lists of different sizes in a single `np.ndarray`\n",
    "\n",
    "## np.array vs np.ndarray\n",
    "\n",
    "> __`np.array` IS A FACTORY METHOD which creates `np.ndarray` (numpy N-dimensional array) objects__\n",
    "\n",
    "What is a factory method?\n",
    "\n",
    "> Factory methods are methods which, dependent on the input we pass to it __returns different object types__\n",
    "\n",
    "Let's see:\n",
    "- How to create `np.ndarray` object from Python's objects (`list` and `tuple`)\n",
    "- How the type is inferred based on content\n",
    "- Uniform presentation of arrays on Python level (`type(array)`)\n",
    "\n",
    "> __You should always use `np.array` in order to create an array because it infers `dtype` correctly!__"
   ]
  },
  {
   "cell_type": "code",
   "execution_count": 15,
   "id": "4a0d1b84",
   "metadata": {},
   "outputs": [
    {
     "name": "stdout",
     "output_type": "stream",
     "text": [
      "[1 2 3 4]\n",
      "[[1. 2. 3. 4.]\n",
      " [5. 6. 7. 8.]]\n"
     ]
    },
    {
     "data": {
      "text/plain": [
       "(dtype('int64'), numpy.ndarray, dtype('float64'), numpy.ndarray)"
      ]
     },
     "execution_count": 15,
     "metadata": {},
     "output_type": "execute_result"
    }
   ],
   "source": [
    "import numpy as np  # always use this alias!\n",
    "\n",
    "# Defining arrays\n",
    "arr1d_int = np.array([1, 2, 3, 4])\n",
    "arr2d_float = np.array(((1, 2, 3, 4), (5, 6, 7, 8.0)))  # Notice 8.0\n",
    "\n",
    "print(arr1d_int)\n",
    "print(arr2d_float)\n",
    "arr1d_int.dtype, type(arr1d_int), arr2d_float.dtype, type(arr2d_float)"
   ]
  },
  {
   "cell_type": "markdown",
   "id": "fbf370b0",
   "metadata": {},
   "source": [
    "## Changing data type\n",
    "\n",
    "Sometimes we would like to use different data type than the one inferred.\n",
    "\n",
    "There are two basic approaches to obtain that:\n",
    "- Specifying during creation\n",
    "- __Casting__ via `.astype` (__new array is created, THIS IS NOT DONE IN-PLACE__ as new array has to be\n",
    "\n",
    "Let's see casting first:"
   ]
  },
  {
   "cell_type": "code",
   "execution_count": 16,
   "id": "a0fe24ff",
   "metadata": {},
   "outputs": [
    {
     "name": "stdout",
     "output_type": "stream",
     "text": [
      "int64\n"
     ]
    },
    {
     "data": {
      "text/plain": [
       "dtype('int8')"
      ]
     },
     "execution_count": 16,
     "metadata": {},
     "output_type": "execute_result"
    }
   ],
   "source": [
    "# Failed attempt, new array returned \n",
    "arr1d_int.astype(\"int8\")\n",
    "print(arr1d_int.dtype)\n",
    "\n",
    "# Correct way, new object is assigned to itself\n",
    "arr1d_int = arr1d_int.astype(\"int8\")\n",
    "\n",
    "arr1d_int.dtype"
   ]
  },
  {
   "cell_type": "code",
   "execution_count": 18,
   "id": "836d941b",
   "metadata": {},
   "outputs": [],
   "source": [
    "# We can also specify it as `np.TYPE` object\n",
    "new_arr = np.array([1, 2, 3], dtype=np.int8) # or \"int8\" string"
   ]
  },
  {
   "cell_type": "markdown",
   "id": "3a99d1c9",
   "metadata": {},
   "source": [
    "## Data layout\n",
    "\n",
    "> __`np.ndarray` is kept in memory as `1D` array of contiguous values__\n",
    "\n",
    "If so, how can we have, for example, `3D` array?\n",
    "\n",
    "### strides\n",
    "\n",
    "> __Strides define HOW MANY BYTES one need to traverse in order to get next element for each dimension__\n",
    "\n",
    "![](./images/numpy_strides.svg)\n",
    "\n",
    "Let's see what these are for our two arrays:"
   ]
  },
  {
   "cell_type": "code",
   "execution_count": 19,
   "id": "65037bb8",
   "metadata": {},
   "outputs": [
    {
     "name": "stdout",
     "output_type": "stream",
     "text": [
      "Int1D itemsize: 1\n",
      "Int1D strides: (1,)\n",
      "Float2D itemsize: 8\n",
      "Float2D strides: (32, 8)\n",
      "    \n"
     ]
    }
   ],
   "source": [
    "print(\n",
    "    f\"\"\"Int1D itemsize: {arr1d_int.itemsize}\n",
    "Int1D strides: {arr1d_int.strides}\n",
    "Float2D itemsize: {arr2d_float.itemsize}\n",
    "Float2D strides: {arr2d_float.strides}\n",
    "    \"\"\"\n",
    ")"
   ]
  },
  {
   "cell_type": "markdown",
   "id": "cf016b13",
   "metadata": {},
   "source": [
    "- `itemsize` - specifies how many bytes are used for the data type\n",
    "- `stride` - specifies how many bytes we have to jump in order to move to the next element"
   ]
  },
  {
   "cell_type": "code",
   "execution_count": 23,
   "id": "527ac589",
   "metadata": {},
   "outputs": [
    {
     "name": "stdout",
     "output_type": "stream",
     "text": [
      "[[0 1 2]\n",
      " [3 4 5]\n",
      " [6 7 8]]\n",
      "int64\n",
      "(24, 8)\n"
     ]
    }
   ],
   "source": [
    "# Explain values below based on the code and output\n",
    "\n",
    "arr = np.arange(9).reshape(3, 3)\n",
    "\n",
    "print(arr)\n",
    "print(arr.dtype)\n",
    "print(arr.strides)"
   ]
  },
  {
   "cell_type": "markdown",
   "id": "b57fd42d",
   "metadata": {},
   "source": [
    "We can also transposed our array, let's see how this changes our strides\n",
    "\n",
    "![](./images/numpy_strides_transposed.svg)\n",
    "\n",
    "__Take note that__:\n",
    "- Our internal data was \"moved\" around\n",
    "- __Why would we need it, wouldn't change in strides suffice?__"
   ]
  },
  {
   "cell_type": "code",
   "execution_count": 25,
   "id": "45d0d122",
   "metadata": {},
   "outputs": [
    {
     "name": "stdout",
     "output_type": "stream",
     "text": [
      "[[0 3 6]\n",
      " [1 4 7]\n",
      " [2 5 8]]\n"
     ]
    },
    {
     "data": {
      "text/plain": [
       "(8, 24)"
      ]
     },
     "execution_count": 25,
     "metadata": {},
     "output_type": "execute_result"
    }
   ],
   "source": [
    "transposed = arr.T\n",
    "\n",
    "print(transposed)\n",
    "transposed.strides"
   ]
  },
  {
   "cell_type": "markdown",
   "id": "4b3bf117",
   "metadata": {},
   "source": [
    "## shape\n",
    "\n",
    "> `our_array.shape` returns dimensionality of our array\n",
    "\n",
    "__It is one of the most often used attributes in `numpy` and scientific computing so keep that in mind!__\n",
    "\n",
    "## Creating np.ndarray\n",
    "\n",
    "Numpy allows us to easily create data in multiple ways, namely:\n",
    "- __From standard Python structures (`list`s or `tuple`s)__ (possibly nested)\n",
    "- __Direct creation of `np.ndarray`__ via:\n",
    "    - random operations (elements are taken from some distribution)\n",
    "    - using single value (zeros, ones, `fill` with some value)\n",
    "    \n",
    "Let's see a few creational operations (__all of them are listed [here](https://numpy.org/doc/stable/reference/routines.array-creation.html)__):"
   ]
  },
  {
   "cell_type": "code",
   "execution_count": 38,
   "id": "9cc95911",
   "metadata": {},
   "outputs": [
    {
     "name": "stdout",
     "output_type": "stream",
     "text": [
      "[[1. 1. 1. 1. 1.]\n",
      " [1. 1. 1. 1. 1.]\n",
      " [1. 1. 1. 1. 1.]\n",
      " [1. 1. 1. 1. 1.]]\n",
      "[[1. 0. 0.]\n",
      " [0. 1. 0.]\n",
      " [0. 0. 1.]]\n"
     ]
    },
    {
     "data": {
      "text/plain": [
       "(4, 5)"
      ]
     },
     "execution_count": 38,
     "metadata": {},
     "output_type": "execute_result"
    }
   ],
   "source": [
    "ones = np.ones((4, 5)) # 2D matrix filled with ones\n",
    "zeros = np.zeros_like(ones) # 2D zero matrix filled with zeros of the same shape as ones and zeros\n",
    "\n",
    "print(ones)\n",
    "print(np.eye(3)) # diagonal matrix\n",
    "zeros.shape"
   ]
  },
  {
   "cell_type": "markdown",
   "id": "568083cc",
   "metadata": {},
   "source": [
    "## Creating random np.array\n",
    "\n",
    "> `numpy` provides means to create random arrays (for example defined by some distribution)\n",
    "\n",
    "[Here](https://numpy.org/doc/stable/reference/random/index.html) you can see a full list of possibilities,\n",
    "__all of them are located in `random` module__.\n",
    "\n",
    "Example usage:"
   ]
  },
  {
   "cell_type": "code",
   "execution_count": 54,
   "id": "a027258e",
   "metadata": {},
   "outputs": [
    {
     "data": {
      "text/plain": [
       "array([-0.24254289,  0.7083943 , -0.33446633,  0.42426222, -1.99369232,\n",
       "        0.80625689, -0.54320899,  2.36829641, -0.20734505, -0.59212398])"
      ]
     },
     "execution_count": 54,
     "metadata": {},
     "output_type": "execute_result"
    }
   ],
   "source": [
    "vals = np.random.standard_normal(10)\n",
    "\n",
    "vals"
   ]
  },
  {
   "cell_type": "code",
   "execution_count": 58,
   "id": "fac985b4",
   "metadata": {},
   "outputs": [
    {
     "data": {
      "text/plain": [
       "array([[-0.74751218,  0.09683241,  0.48627724, -0.60063956],\n",
       "       [ 1.47518089,  2.11843449, -1.02584517,  0.19524806],\n",
       "       [ 1.11244104, -0.59861959,  0.61149984,  0.67560329]])"
      ]
     },
     "execution_count": 58,
     "metadata": {},
     "output_type": "execute_result"
    }
   ],
   "source": [
    "# Random NORMAL distribution (mean: 0 and stddev: 1)\n",
    "vals = np.random.randn(3, 4)\n",
    "\n",
    "vals"
   ]
  },
  {
   "cell_type": "code",
   "execution_count": 59,
   "id": "b9823021",
   "metadata": {},
   "outputs": [
    {
     "data": {
      "text/plain": [
       "array([[0.98468015, 0.37304705, 0.53834982, 0.33175601],\n",
       "       [0.3772029 , 0.5516284 , 0.16610994, 0.2366541 ],\n",
       "       [0.50624113, 0.64051987, 0.27737038, 0.32808795]])"
      ]
     },
     "execution_count": 59,
     "metadata": {},
     "output_type": "execute_result"
    }
   ],
   "source": [
    "# Random UNIFORM distribution (0, 1 range)\n",
    "vals = np.random.rand(3, 4)\n",
    "\n",
    "vals"
   ]
  },
  {
   "cell_type": "markdown",
   "id": "be281ab4",
   "metadata": {},
   "source": [
    "## Operations on arrays\n",
    "\n",
    "> __`numpy` provides a lot of mathematical functions via easy to use notation__\n",
    "\n",
    "Most of the operations are done \"element-wise\" (each element with respective elements of the other array):\n",
    "- addition: `+`\n",
    "- subtraction: `-`\n",
    "- multiplication: `*`\n",
    "- bitwise operations (when array is boolean)\n",
    "\n",
    "and many others (__see [here](https://scipy-lectures.org/intro/numpy/operations.html) for more examples__)\n",
    "\n",
    "\n",
    "> __Don't use `np.add` or other function like ops, THEY ARE THE SAME AS OVERLOADED OPERATORS__"
   ]
  },
  {
   "cell_type": "code",
   "execution_count": 43,
   "id": "ed608ebb",
   "metadata": {},
   "outputs": [
    {
     "data": {
      "text/plain": [
       "array([[6., 5., 5.],\n",
       "       [5., 6., 5.],\n",
       "       [5., 5., 6.]])"
      ]
     },
     "execution_count": 43,
     "metadata": {},
     "output_type": "execute_result"
    }
   ],
   "source": [
    "arr1 = np.full((3, 3), fill_value = 5)\n",
    "\n",
    "arr1 + np.eye(arr1.shape[0]) "
   ]
  },
  {
   "cell_type": "markdown",
   "id": "46432776",
   "metadata": {},
   "source": [
    "## Mathematical functions\n",
    "\n",
    "> `numpy` provides a lot of math functions (e.g. trigonometric)\n",
    "\n",
    "Traits:\n",
    "- Works on any array (usually element-wise) with some edge-case exceptions\n",
    "- Optimized C implementations\n",
    "- Provided in the `np` namespace\n",
    "\n",
    "> All of the available operations are listed [here](https://numpy.org/doc/stable/reference/routines.math.html)\n",
    "\n",
    "Let's see an example below:"
   ]
  },
  {
   "cell_type": "code",
   "execution_count": 51,
   "id": "1cb9557f",
   "metadata": {
    "scrolled": true
   },
   "outputs": [
    {
     "data": {
      "text/plain": [
       "array([[ 0.41352406, 11.65427351, 11.65427351],\n",
       "       [11.65427351,  0.41352406, 11.65427351],\n",
       "       [11.65427351, 11.65427351,  0.41352406]])"
      ]
     },
     "execution_count": 51,
     "metadata": {},
     "output_type": "execute_result"
    }
   ],
   "source": [
    "# np.e and np.pi are predefined constant \n",
    "\n",
    "(np.cos(arr1) - np.sin(arr1) ** 3) / (np.eye(arr1.shape[0]) * np.e + 0.1)"
   ]
  },
  {
   "cell_type": "markdown",
   "id": "36f03a28",
   "metadata": {},
   "source": [
    "## Linear algebra operations\n",
    "\n",
    "> `numpy` provides linear algebra functionalities __located within `np.linalg` submodule__\n",
    "\n",
    "See [here](https://numpy.org/doc/stable/reference/routines.linalg.html) for available functionalities.\n",
    "\n",
    "Some of them are provided as overloaded operations, namely __matrix multiplication__:"
   ]
  },
  {
   "cell_type": "code",
   "execution_count": 70,
   "id": "b9c9eb13",
   "metadata": {},
   "outputs": [
    {
     "data": {
      "text/plain": [
       "(10, 10)"
      ]
     },
     "execution_count": 70,
     "metadata": {},
     "output_type": "execute_result"
    }
   ],
   "source": [
    "# Inner dimensions must match!\n",
    "\n",
    "X, y = np.random.randn(10, 5), np.random.randn(5, 10)\n",
    "\n",
    "(X @ y).shape"
   ]
  },
  {
   "cell_type": "code",
   "execution_count": 74,
   "id": "019ba535",
   "metadata": {},
   "outputs": [
    {
     "data": {
      "text/plain": [
       "5.708809774938935"
      ]
     },
     "execution_count": 74,
     "metadata": {},
     "output_type": "execute_result"
    }
   ],
   "source": [
    "A = np.random.randn(10)\n",
    "B = np.random.randn(10)\n",
    "\n",
    "np.inner(A, B)"
   ]
  },
  {
   "cell_type": "code",
   "execution_count": 77,
   "id": "de0c49c9",
   "metadata": {},
   "outputs": [
    {
     "data": {
      "text/plain": [
       "(array([ 0.00653762+2.73914504j,  0.00653762-2.73914504j,\n",
       "        -1.45754244+1.25433401j, -1.45754244-1.25433401j,\n",
       "        -0.53901557+1.05835501j, -0.53901557-1.05835501j,\n",
       "         2.6212444 +0.85592199j,  2.6212444 -0.85592199j,\n",
       "         0.65357259+0.j        ,  1.35407656+0.j        ]),\n",
       " array([[ 5.63840421e-01+0.j        ,  5.63840421e-01-0.j        ,\n",
       "          4.43458617e-01+0.j        ,  4.43458617e-01-0.j        ,\n",
       "         -1.42880129e-01+0.18902739j, -1.42880129e-01-0.18902739j,\n",
       "         -4.06683218e-02+0.03470009j, -4.06683218e-02-0.03470009j,\n",
       "          1.03792994e-01+0.j        ,  1.04679952e-01+0.j        ],\n",
       "        [ 3.65214582e-02-0.25958872j,  3.65214582e-02+0.25958872j,\n",
       "          2.46625247e-01+0.06615217j,  2.46625247e-01-0.06615217j,\n",
       "          3.58238532e-01+0.27337585j,  3.58238532e-01-0.27337585j,\n",
       "          2.41131070e-01+0.10407014j,  2.41131070e-01-0.10407014j,\n",
       "         -2.50490697e-01+0.j        ,  4.24520201e-01+0.j        ],\n",
       "        [-1.37788927e-02+0.12618169j, -1.37788927e-02-0.12618169j,\n",
       "          2.72646850e-01+0.09944278j,  2.72646850e-01-0.09944278j,\n",
       "          1.19194639e-01-0.13274152j,  1.19194639e-01+0.13274152j,\n",
       "         -2.67499734e-01+0.03260451j, -2.67499734e-01-0.03260451j,\n",
       "         -2.44220565e-01+0.j        ,  2.61506308e-01+0.j        ],\n",
       "        [-4.15260502e-01-0.03314599j, -4.15260502e-01+0.03314599j,\n",
       "          3.91302644e-01-0.07247709j,  3.91302644e-01+0.07247709j,\n",
       "          5.36790656e-01+0.j        ,  5.36790656e-01-0.j        ,\n",
       "          5.98709584e-01+0.j        ,  5.98709584e-01-0.j        ,\n",
       "          4.12805085e-01+0.j        , -3.90289410e-01+0.j        ],\n",
       "        [ 1.80142868e-01+0.28109403j,  1.80142868e-01-0.28109403j,\n",
       "         -1.52904431e-01+0.20174399j, -1.52904431e-01-0.20174399j,\n",
       "         -2.64594325e-01+0.10131197j, -2.64594325e-01-0.10131197j,\n",
       "          1.23999892e-01+0.08958625j,  1.23999892e-01-0.08958625j,\n",
       "          3.66145874e-03+0.j        ,  2.08726122e-01+0.j        ],\n",
       "        [-1.09261000e-01-0.0378687j , -1.09261000e-01+0.0378687j ,\n",
       "         -3.23312713e-04+0.38656768j, -3.23312713e-04-0.38656768j,\n",
       "          2.21614388e-01-0.05634539j,  2.21614388e-01+0.05634539j,\n",
       "          4.37275268e-01-0.07953993j,  4.37275268e-01+0.07953993j,\n",
       "          1.79594559e-01+0.j        , -2.20346127e-01+0.j        ],\n",
       "        [ 1.23256027e-01+0.01529376j,  1.23256027e-01-0.01529376j,\n",
       "         -2.79349748e-01+0.01128344j, -2.79349748e-01-0.01128344j,\n",
       "          2.79809047e-02-0.09994979j,  2.79809047e-02+0.09994979j,\n",
       "          1.41810517e-01+0.09845562j,  1.41810517e-01-0.09845562j,\n",
       "          2.09960600e-01+0.j        , -2.64872285e-01+0.j        ],\n",
       "        [-3.05234152e-01-0.32215856j, -3.05234152e-01+0.32215856j,\n",
       "         -8.64051882e-02-0.1949205j , -8.64051882e-02+0.1949205j ,\n",
       "          1.57255441e-01-0.23448996j,  1.57255441e-01+0.23448996j,\n",
       "          3.72144499e-01+0.07890822j,  3.72144499e-01-0.07890822j,\n",
       "         -1.82694619e-03+0.j        , -1.59731354e-01+0.j        ],\n",
       "        [-2.45835687e-01-0.15528891j, -2.45835687e-01+0.15528891j,\n",
       "         -1.28570026e-01+0.22620641j, -1.28570026e-01-0.22620641j,\n",
       "         -8.89492286e-02+0.28533566j, -8.89492286e-02-0.28533566j,\n",
       "          2.60582980e-01-0.08970351j,  2.60582980e-01+0.08970351j,\n",
       "          7.38258287e-01+0.j        , -6.04695392e-01+0.j        ],\n",
       "        [-1.43656773e-02+0.04169844j, -1.43656773e-02-0.04169844j,\n",
       "          1.67817000e-01-0.25009559j,  1.67817000e-01+0.25009559j,\n",
       "          3.27748271e-01+0.03187126j,  3.27748271e-01-0.03187126j,\n",
       "         -1.12793407e-01-0.11385349j, -1.12793407e-01+0.11385349j,\n",
       "          2.73952553e-01+0.j        ,  1.86189081e-01+0.j        ]]))"
      ]
     },
     "execution_count": 77,
     "metadata": {},
     "output_type": "execute_result"
    }
   ],
   "source": [
    "# Eigen values\n",
    "\n",
    "np.linalg.eig(np.random.randn(10, 10))"
   ]
  },
  {
   "cell_type": "markdown",
   "id": "a022cde6",
   "metadata": {},
   "source": [
    "# Accessing elements\n",
    "\n",
    "> `numpy` allows us to access data in multiple ways\n",
    "\n",
    "Before we move on to accessing data (and advanced way to do that) you should keep the following in mind (__all the time!__):\n",
    "- __ALWAYS USE `numpy` OPERATIONS__\n",
    "- __NO FOR LOOPS KNOWN FROM PYTHON__ (every operation you do should be done purely in `numpy`)\n",
    "- You will learn more and more ways to avoid loops as we go through the course materials\n",
    "\n",
    "## Standard index-based item\n",
    "\n",
    "First, let's create a `2D` array we will use:"
   ]
  },
  {
   "cell_type": "code",
   "execution_count": 80,
   "id": "279f60c6",
   "metadata": {},
   "outputs": [
    {
     "data": {
      "text/plain": [
       "array([[ 0,  1,  2,  3],\n",
       "       [ 4,  5,  6,  7],\n",
       "       [ 8,  9, 10, 11],\n",
       "       [12, 13, 14, 15],\n",
       "       [16, 17, 18, 19]])"
      ]
     },
     "execution_count": 80,
     "metadata": {},
     "output_type": "execute_result"
    }
   ],
   "source": [
    "matrix = np.arange(20).reshape(5, 4)\n",
    "\n",
    "matrix"
   ]
  },
  {
   "cell_type": "code",
   "execution_count": 84,
   "id": "2cc7b4cc",
   "metadata": {},
   "outputs": [
    {
     "data": {
      "text/plain": [
       "(0, 4, 1, 8)"
      ]
     },
     "execution_count": 84,
     "metadata": {},
     "output_type": "execute_result"
    }
   ],
   "source": [
    "# Obtaining single element\n",
    "\n",
    "matrix[0, 0], matrix[1, 0], matrix[0, 1], matrix[2][0]"
   ]
  },
  {
   "cell_type": "code",
   "execution_count": 85,
   "id": "4a255bd0",
   "metadata": {},
   "outputs": [
    {
     "data": {
      "text/plain": [
       "array([0, 1, 2, 3])"
      ]
     },
     "execution_count": 85,
     "metadata": {},
     "output_type": "execute_result"
    }
   ],
   "source": [
    "# first row\n",
    "\n",
    "matrix[0]"
   ]
  },
  {
   "cell_type": "code",
   "execution_count": 86,
   "id": "05039e63",
   "metadata": {},
   "outputs": [
    {
     "data": {
      "text/plain": [
       "array([ 0,  4,  8, 12, 16])"
      ]
     },
     "execution_count": 86,
     "metadata": {},
     "output_type": "execute_result"
    }
   ],
   "source": [
    "# : means all elements\n",
    "# 0 means 0th column\n",
    "\n",
    "matrix[:, 0]"
   ]
  },
  {
   "cell_type": "code",
   "execution_count": 91,
   "id": "3c3fc87d",
   "metadata": {},
   "outputs": [
    {
     "data": {
      "text/plain": [
       "array([[ 8,  9, 10, 11],\n",
       "       [12, 13, 14, 15],\n",
       "       [16, 17, 18, 19]])"
      ]
     },
     "execution_count": 91,
     "metadata": {},
     "output_type": "execute_result"
    }
   ],
   "source": [
    "# Rows from second upwards\n",
    "matrix[2:]"
   ]
  },
  {
   "cell_type": "code",
   "execution_count": 92,
   "id": "9be0a534",
   "metadata": {},
   "outputs": [
    {
     "data": {
      "text/plain": [
       "array([[ 2,  3],\n",
       "       [ 6,  7],\n",
       "       [10, 11],\n",
       "       [14, 15],\n",
       "       [18, 19]])"
      ]
     },
     "execution_count": 92,
     "metadata": {},
     "output_type": "execute_result"
    }
   ],
   "source": [
    "# Columns from second upwards\n",
    "matrix[:, 2:]"
   ]
  },
  {
   "cell_type": "code",
   "execution_count": 95,
   "id": "43e19af3",
   "metadata": {},
   "outputs": [
    {
     "data": {
      "text/plain": [
       "array([0, 4, 8])"
      ]
     },
     "execution_count": 95,
     "metadata": {},
     "output_type": "execute_result"
    }
   ],
   "source": [
    "# Rows from zeroth to third, column 0\n",
    "matrix[:3, 0]"
   ]
  },
  {
   "cell_type": "code",
   "execution_count": 102,
   "id": "c3a1b75c",
   "metadata": {},
   "outputs": [
    {
     "data": {
      "text/plain": [
       "array([[ 3,  2,  1,  0],\n",
       "       [ 7,  6,  5,  4],\n",
       "       [11, 10,  9,  8],\n",
       "       [15, 14, 13, 12],\n",
       "       [19, 18, 17, 16]])"
      ]
     },
     "execution_count": 102,
     "metadata": {},
     "output_type": "execute_result"
    }
   ],
   "source": [
    "# Inverse of columns\n",
    "\n",
    "matrix[:, ::-1]"
   ]
  },
  {
   "cell_type": "code",
   "execution_count": 103,
   "id": "f439c2a6",
   "metadata": {},
   "outputs": [
    {
     "data": {
      "text/plain": [
       "array([[19, 18, 17, 16],\n",
       "       [15, 14, 13, 12],\n",
       "       [11, 10,  9,  8],\n",
       "       [ 7,  6,  5,  4],\n",
       "       [ 3,  2,  1,  0]])"
      ]
     },
     "execution_count": 103,
     "metadata": {},
     "output_type": "execute_result"
    }
   ],
   "source": [
    "matrix[::-1, ::-1]"
   ]
  },
  {
   "cell_type": "code",
   "execution_count": 104,
   "id": "c592ee94",
   "metadata": {},
   "outputs": [
    {
     "data": {
      "text/plain": [
       "array([[19, 17],\n",
       "       [ 7,  5]])"
      ]
     },
     "execution_count": 104,
     "metadata": {},
     "output_type": "execute_result"
    }
   ],
   "source": [
    "matrix[::-3, ::-2]"
   ]
  },
  {
   "cell_type": "code",
   "execution_count": 87,
   "id": "5927429d",
   "metadata": {},
   "outputs": [
    {
     "data": {
      "text/plain": [
       "(2, 2, 5)"
      ]
     },
     "execution_count": 87,
     "metadata": {},
     "output_type": "execute_result"
    }
   ],
   "source": [
    "# change to 3D tensor\n",
    "temp = matrix.reshape(2, 2, -1)\n",
    "temp.shape"
   ]
  },
  {
   "cell_type": "code",
   "execution_count": 89,
   "id": "e6d704ef",
   "metadata": {},
   "outputs": [
    {
     "data": {
      "text/plain": [
       "array([[ 4,  9],\n",
       "       [14, 19]])"
      ]
     },
     "execution_count": 89,
     "metadata": {},
     "output_type": "execute_result"
    }
   ],
   "source": [
    "# Same as temp[:, :, -1] e.g. last element from last dimension\n",
    "# Rest left in-tact\n",
    "# 2, 2 as we have created five 2,2 matrices\n",
    "\n",
    "temp[..., -1]"
   ]
  },
  {
   "cell_type": "markdown",
   "id": "6899afdb",
   "metadata": {},
   "source": [
    "## Fancy indexing\n",
    "\n",
    "One of `numpy`'s killer features:\n",
    "\n",
    "> __Fancy indexing allows us to choose elements FROM ANY DIMENSION based on indices we provide__\n",
    "\n",
    "![](./images/numpy_fancy_indexing.png)\n",
    "\n",
    "Once again, we will use our `2D` matrix:"
   ]
  },
  {
   "cell_type": "code",
   "execution_count": 90,
   "id": "f1ea3394",
   "metadata": {},
   "outputs": [
    {
     "data": {
      "text/plain": [
       "array([[ 0,  1,  2,  3],\n",
       "       [ 4,  5,  6,  7],\n",
       "       [ 8,  9, 10, 11],\n",
       "       [12, 13, 14, 15],\n",
       "       [16, 17, 18, 19]])"
      ]
     },
     "execution_count": 90,
     "metadata": {},
     "output_type": "execute_result"
    }
   ],
   "source": [
    "matrix"
   ]
  },
  {
   "cell_type": "code",
   "execution_count": 97,
   "id": "20f544f1",
   "metadata": {},
   "outputs": [
    {
     "data": {
      "text/plain": [
       "array([[ 0,  2],\n",
       "       [ 4,  6],\n",
       "       [ 8, 10],\n",
       "       [12, 14],\n",
       "       [16, 18]])"
      ]
     },
     "execution_count": 97,
     "metadata": {},
     "output_type": "execute_result"
    }
   ],
   "source": [
    "# Column 0 and 2\n",
    "matrix[:, [0, 2]]"
   ]
  },
  {
   "cell_type": "code",
   "execution_count": 98,
   "id": "b323811b",
   "metadata": {},
   "outputs": [
    {
     "data": {
      "text/plain": [
       "array([[16, 17, 18, 19],\n",
       "       [16, 17, 18, 19]])"
      ]
     },
     "execution_count": 98,
     "metadata": {},
     "output_type": "execute_result"
    }
   ],
   "source": [
    "# Take last row twice\n",
    "\n",
    "matrix[[-1, -1]]"
   ]
  },
  {
   "cell_type": "code",
   "execution_count": 99,
   "id": "32a70c51",
   "metadata": {},
   "outputs": [
    {
     "name": "stdout",
     "output_type": "stream",
     "text": [
      "[0 1 2 3 4]\n",
      "[1 4 3 0 2]\n"
     ]
    },
    {
     "data": {
      "text/plain": [
       "array([[ 4,  5,  6,  7],\n",
       "       [16, 17, 18, 19],\n",
       "       [12, 13, 14, 15],\n",
       "       [ 0,  1,  2,  3],\n",
       "       [ 8,  9, 10, 11]])"
      ]
     },
     "execution_count": 99,
     "metadata": {},
     "output_type": "execute_result"
    }
   ],
   "source": [
    "# Shuffle rows using indices\n",
    "\n",
    "indices = np.arange(matrix.shape[0])\n",
    "print(indices)\n",
    "permuted = np.random.permutation(indices)\n",
    "print(permuted)\n",
    "\n",
    "matrix[permuted]"
   ]
  },
  {
   "cell_type": "code",
   "execution_count": 100,
   "id": "58160fd3",
   "metadata": {},
   "outputs": [
    {
     "data": {
      "text/plain": [
       "array([[ 0,  1,  2,  3],\n",
       "       [ 4,  5,  6,  7],\n",
       "       [12, 13, 14, 15]])"
      ]
     },
     "execution_count": 100,
     "metadata": {},
     "output_type": "execute_result"
    }
   ],
   "source": [
    "# Obtain rows based on boolean values\n",
    "\n",
    "matrix[[True, True, False, True, False]]"
   ]
  },
  {
   "cell_type": "code",
   "execution_count": 101,
   "id": "e2911d0e",
   "metadata": {},
   "outputs": [
    {
     "name": "stdout",
     "output_type": "stream",
     "text": [
      "[[False False False False]\n",
      " [False False  True  True]\n",
      " [ True  True  True  True]\n",
      " [ True  True  True  True]\n",
      " [ True  True  True  True]]\n"
     ]
    },
    {
     "data": {
      "text/plain": [
       "array([ 6,  7,  8,  9, 10, 11, 12, 13, 14, 15, 16, 17, 18, 19])"
      ]
     },
     "execution_count": 101,
     "metadata": {},
     "output_type": "execute_result"
    }
   ],
   "source": [
    "# Obtaining only elements which fulfill condition\n",
    "# In this case elements larger than 5\n",
    "\n",
    "print(matrix > 5)\n",
    "\n",
    "# Array has to be flat as it lost it's N x N structure\n",
    "matrix[matrix > 5]"
   ]
  },
  {
   "cell_type": "markdown",
   "id": "e5ac2166",
   "metadata": {},
   "source": [
    "## Reshape and view\n",
    "\n",
    "> __`.reshape(x, y, z)` will change the way we access our array__\n",
    "\n",
    "It is important to note that:\n",
    "- reshape __USUALLY DOES NOT COPY UNDERLYING DATA__ (it is merely changing `strides` and the way we access it)\n",
    "- __COPY OF `np.ndarray`s IS USUALLY NOT DONE__ (unless necessary)\n",
    "- It almost never creates any problem for us (as long as we're working with `numpy` reasonably)\n",
    "\n",
    "First option (without copy) is called __`view`__, while the other one is called __`copy`__.\n",
    "\n",
    "![](./images/numpy_copy_view.png)\n",
    "\n",
    "What does \"working reasonably\" mean?\n",
    "- __After reshaping DON'T CHANGE ELEMENTS IN EITHER OF THE VIEWS__\n",
    "- Use them in \"functional\" manner returning new objects (e.g. addition after reshape)\n",
    "- See examples below"
   ]
  },
  {
   "cell_type": "code",
   "execution_count": 35,
   "id": "ddfa9dc2",
   "metadata": {},
   "outputs": [
    {
     "name": "stdout",
     "output_type": "stream",
     "text": [
      "(18,) (8,)\n",
      "(3, 2, 3) (48, 24, 8)\n",
      "Sharing underlying memory: True\n"
     ]
    }
   ],
   "source": [
    "# elements 0-18 reshaped into \n",
    "\n",
    "arr = np.arange(18)\n",
    "\n",
    "print(arr.shape, arr.strides)\n",
    "\n",
    "reshaped = arr.reshape(3, 2, -1)\n",
    "\n",
    "print(reshaped.shape, reshaped.strides)\n",
    "\n",
    "print(f\"Sharing underlying memory: {np.may_share_memory(arr, reshaped)}\")"
   ]
  },
  {
   "cell_type": "code",
   "execution_count": 36,
   "id": "4ca37de5",
   "metadata": {},
   "outputs": [
    {
     "name": "stdout",
     "output_type": "stream",
     "text": [
      "[    0     1     2     3     4     5     6 99999     8     9    10    11\n",
      "    12    13    14    15    16    17]\n",
      "[[[    0     1     2]\n",
      "  [    3     4     5]]\n",
      "\n",
      " [[    6 99999     8]\n",
      "  [    9    10    11]]\n",
      "\n",
      " [[   12    13    14]\n",
      "  [   15    16    17]]]\n"
     ]
    }
   ],
   "source": [
    "# Will change both arrays\n",
    "arr[7] = 99999.\n",
    "\n",
    "print(arr)\n",
    "print(reshaped)"
   ]
  },
  {
   "cell_type": "code",
   "execution_count": 62,
   "id": "21ebac6a",
   "metadata": {
    "scrolled": true
   },
   "outputs": [
    {
     "data": {
      "text/plain": [
       "array([[ 0.06607302, -0.03757907, -0.22012916, ..., -0.33735095,\n",
       "         0.12948773, -0.32322123],\n",
       "       [ 0.40553952, -0.10047234, -0.07102722, ..., -0.2595114 ,\n",
       "         0.29522957,  0.04071672],\n",
       "       [-0.11908935, -0.5060945 , -0.01849313, ...,  0.45426441,\n",
       "         0.13575486,  0.35651088],\n",
       "       ...,\n",
       "       [-0.19608282,  0.14517763,  1.42295067, ...,  0.06966209,\n",
       "         1.05039197,  0.7748389 ],\n",
       "       [ 0.96215246, -0.0456957 ,  0.47949846, ...,  0.33081944,\n",
       "        -0.20928297,  0.37043871],\n",
       "       [ 0.84462781, -0.59371553,  0.01023492, ...,  1.03324647,\n",
       "        -0.1447829 ,  0.06648208]])"
      ]
     },
     "execution_count": 62,
     "metadata": {},
     "output_type": "execute_result"
    }
   ],
   "source": [
    "# Correct usage, will not change underlying memory\n",
    "# View will be used to multiply values within X1\n",
    "\n",
    "X1 = np.random.randn(128, 10)\n",
    "\n",
    "X2 = np.random.rand(1280)\n",
    "\n",
    "X1 * X2.reshape(X1.shape)"
   ]
  },
  {
   "cell_type": "markdown",
   "id": "f79dca99",
   "metadata": {},
   "source": [
    "## -1 in reshape\n",
    "\n",
    "> `-1` is used in order to __infer__ missing dimensionality\n",
    "\n",
    "It is pretty useful when:\n",
    "- __we don't know some dimension beforehand__\n",
    "- __we write function that has to work independently of some dimension__\n",
    "\n",
    "Let's see a dummy example:"
   ]
  },
  {
   "cell_type": "code",
   "execution_count": 68,
   "id": "d028edd8",
   "metadata": {},
   "outputs": [
    {
     "name": "stdout",
     "output_type": "stream",
     "text": [
      "(24, 10)\n"
     ]
    },
    {
     "data": {
      "text/plain": [
       "(12, 10)"
      ]
     },
     "execution_count": 68,
     "metadata": {},
     "output_type": "execute_result"
    }
   ],
   "source": [
    "def make_second_dimension_10(array):\n",
    "    assert array.size % 10 == 0, \"Number of array elements has to be dividable by 10\"\n",
    "    return array.reshape(-1, 10)\n",
    "\n",
    "\n",
    "print(make_second_dimension_10(np.random.randn(5, 6, 8)).shape)\n",
    "make_second_dimension_10(np.random.randn(120)).shape"
   ]
  },
  {
   "cell_type": "markdown",
   "id": "af1fb2fd",
   "metadata": {},
   "source": [
    "# Broadcasting\n",
    "\n",
    "After `fancy indexing`, `reshape` third killer feature of `numpy` is introduced:\n",
    "\n",
    "> __Broadcasting means automatic expansion of smaller array to a larger one__\n",
    "\n",
    "![](./images/numpy_broadcasting.png)\n",
    "\n",
    "Looking at the picture above:\n",
    "- __Arrays have to be expandable__, e.g.:\n",
    "    - `(3, 10)` and `(3,)`, second one will be expanded to `(3, 1)`\n",
    "    - `(3, 10)` and `(10,)` __WILL NOT WORK__ as the first dimension does not match\n",
    "    - We have to reshape above to `(1, 10)`, so the `(1,)` dimension will be expanded to `(3,)`\n",
    "- __Dimensions have to match__ (exampele above)\n",
    "\n",
    "Let's see a few examples:"
   ]
  },
  {
   "cell_type": "code",
   "execution_count": 106,
   "id": "be1e2a24",
   "metadata": {},
   "outputs": [
    {
     "data": {
      "text/plain": [
       "(10, 5, 3)"
      ]
     },
     "execution_count": 106,
     "metadata": {},
     "output_type": "execute_result"
    }
   ],
   "source": [
    "# Broadcasting for both arrays\n",
    "\n",
    "arr1 = np.random.randn(10, 3)\n",
    "arr2 = np.random.randn(10, 5)\n",
    "\n",
    "result = arr1.reshape(-1, 1, 3) * arr2.reshape(10, -1, 1)\n",
    "result.shape"
   ]
  },
  {
   "cell_type": "code",
   "execution_count": 110,
   "id": "3d4f9408",
   "metadata": {},
   "outputs": [
    {
     "data": {
      "text/plain": [
       "array([-2.317568  , -1.51070574, -1.46470051])"
      ]
     },
     "execution_count": 110,
     "metadata": {},
     "output_type": "execute_result"
    }
   ],
   "source": [
    "# Will not work\n",
    "a = np.random.randn(1, 10)\n",
    "b = np.random.randn(3)\n",
    "\n",
    "a + b"
   ]
  },
  {
   "cell_type": "code",
   "execution_count": 111,
   "id": "6144dc29",
   "metadata": {},
   "outputs": [
    {
     "data": {
      "text/plain": [
       "array([[-0.31557747, -3.0836088 , -2.65585039],\n",
       "       [ 1.21277083, -2.12886569,  0.18391569],\n",
       "       [-1.09073187, -0.96382431, -2.76317141]])"
      ]
     },
     "execution_count": 111,
     "metadata": {},
     "output_type": "execute_result"
    }
   ],
   "source": [
    "a = np.random.randn(3, 3)\n",
    "b = np.random.randn(3)\n",
    "\n",
    "a - b"
   ]
  },
  {
   "cell_type": "markdown",
   "id": "df11dde8",
   "metadata": {},
   "source": [
    "# Challenges\n",
    "\n",
    "## Assessment\n",
    "\n",
    "- What is `np.einsum` and how it works? Check out [the docs](https://numpy.org/doc/stable/reference/generated/numpy.einsum.html#numpy.einsum) and check Google (or ask instructor during next lesson) if necessary\n",
    "\n",
    "## Non-assessment\n",
    "\n",
    "- Check [internals about `np.ndarray`](https://numpy.org/doc/stable/reference/internals.html) in order to __understand more__ about how it is designed (great example of well-designed data structure!)"
   ]
  }
 ],
 "metadata": {
  "kernelspec": {
   "display_name": "Python [conda env:.conda-AiCore] *",
   "language": "python",
   "name": "conda-env-.conda-AiCore-py"
  },
  "language_info": {
   "codemirror_mode": {
    "name": "ipython",
    "version": 3
   },
   "file_extension": ".py",
   "mimetype": "text/x-python",
   "name": "python",
   "nbconvert_exporter": "python",
   "pygments_lexer": "ipython3",
   "version": "3.9.6"
  }
 },
 "nbformat": 4,
 "nbformat_minor": 5
}
