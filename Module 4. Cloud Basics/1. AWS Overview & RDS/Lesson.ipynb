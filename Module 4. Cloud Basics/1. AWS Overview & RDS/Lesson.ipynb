{
 "cells": [
  {
   "cell_type": "markdown",
   "metadata": {},
   "source": [
    "# 1. AWS Overview"
   ]
  },
  {
   "cell_type": "markdown",
   "metadata": {},
   "source": [
    "In this lesson, we are going to explore the basics of cloud computing. We will be using Amazon Web Services (AWS) as the cloud provider. A cloud provider is a service that provides compute resources to you. In this lesson, we will explore the following:\n",
    "\n",
    "  - What is AWS?\n",
    "  - What is cloud computing?\n",
    "  - What Services are available in AWS?\n",
    "  - How to create a RDS instance"
   ]
  },
  {
   "cell_type": "markdown",
   "metadata": {},
   "source": [
    "First of all, we need to go to the AWS console and create a new account. To do this, go to the [AWS Console](https://console.aws.amazon.com/console/home), and create a new account. You will need a credit card to pay for the AWS services, but worry not! You can use a free service tier."
   ]
  },
  {
   "cell_type": "markdown",
   "metadata": {},
   "source": [
    "Once created, go to the [AWS Console](https://console.aws.amazon.com/console/home) and select the Services tab. You will see a list of services that are available\n",
    "\n",
    "![](images/AWS_Services.png)"
   ]
  },
  {
   "cell_type": "markdown",
   "metadata": {},
   "source": [
    "There are plenty of services in AWS, you can even manage your satellite server in the cloud! We only have bugdet for providing a few satellites, so instead, in this introduction we will focus on :\n",
    "\n",
    "- [Amazon RDS](https://aws.amazon.com/rds/) - Relational Database Service\n",
    "- [Amazon S3](https://aws.amazon.com/s3/) - Simple Storage Service\n",
    "- [Amazon EC2](https://aws.amazon.com/ec2/) - Elastic Compute Cloud"
   ]
  },
  {
   "cell_type": "markdown",
   "metadata": {},
   "source": [
    "For both RDS and EC2, we will need to establish a virtual network. This will limit the range of IP addresses that can be used to access the service. You can simply create a Security Group in AWS, and assign a range of IP addresses to it. To do so, go to the search bar and type VPC. Then click on the Security Groups tab.\n",
    "\n",
    "<p float=\"left\">\n",
    "  <img src=\"images/VPC_search.png\" width=\"100\" />\n",
    "  <img src=\"images/VPC_Security.png\" width=\"100\" /> \n",
    "</p>"
   ]
  },
  {
   "cell_type": "markdown",
   "metadata": {},
   "source": [
    "# AWS RDS"
   ]
  },
  {
   "cell_type": "code",
   "execution_count": 12,
   "metadata": {},
   "outputs": [],
   "source": [
    "from sqlalchemy import create_engine\n",
    "DATABASE_TYPE = 'postgresql'\n",
    "DBAPI = 'psycopg2'\n",
    "HOST = 'aicoredb.c8k7he1p0ynz.us-east-1.rds.amazonaws.com'\n",
    "USER = 'postgres'\n",
    "PASSWORD = 'Cosamona94'\n",
    "DATABASE = 'postgres'\n",
    "PORT = 5432\n",
    "engine = create_engine(f\"{DATABASE_TYPE}+{DBAPI}://{USER}:{PASSWORD}@{HOST}:{PORT}/{DATABASE}\")\n",
    "\n"
   ]
  },
  {
   "cell_type": "code",
   "execution_count": 13,
   "metadata": {},
   "outputs": [
    {
     "data": {
      "text/plain": [
       "<sqlalchemy.engine.base.Connection at 0x7fa97642e970>"
      ]
     },
     "execution_count": 13,
     "metadata": {},
     "output_type": "execute_result"
    }
   ],
   "source": [
    "engine.connect()"
   ]
  },
  {
   "cell_type": "code",
   "execution_count": null,
   "metadata": {},
   "outputs": [],
   "source": []
  }
 ],
 "metadata": {
  "interpreter": {
   "hash": "569d6b7e9215e11aba41c6454007e5c1b78bad7df09dab765d8cf00362c40f03"
  },
  "kernelspec": {
   "display_name": "Python 3.9.1 64-bit ('base': conda)",
   "name": "python3"
  },
  "language_info": {
   "codemirror_mode": {
    "name": "ipython",
    "version": 3
   },
   "file_extension": ".py",
   "mimetype": "text/x-python",
   "name": "python",
   "nbconvert_exporter": "python",
   "pygments_lexer": "ipython3",
   "version": "3.9.1"
  },
  "orig_nbformat": 4
 },
 "nbformat": 4,
 "nbformat_minor": 2
}